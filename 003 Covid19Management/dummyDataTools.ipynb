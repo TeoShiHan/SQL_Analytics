{
 "cells": [
  {
   "cell_type": "code",
   "execution_count": 110,
   "id": "e323c7a6",
   "metadata": {},
   "outputs": [
    {
     "name": "stdout",
     "output_type": "stream",
     "text": [
      "         id\n",
      "0    C19149\n",
      "1    C34341\n",
      "2    C38573\n",
      "3    C21883\n",
      "4    C80674\n",
      "..      ...\n",
      "115  C26737\n",
      "116  C29816\n",
      "117  C31943\n",
      "118  C30818\n",
      "119  C16653\n",
      "\n",
      "[120 rows x 1 columns]\n"
     ]
    }
   ],
   "source": [
    "# import pandas as pd\n",
    "import pandas as pd\n",
    "# software carpentry url for gapminder data\n",
    "\n",
    "# load the data with pd.read_csv\n",
    "checker = pd.read_csv(\"centerKey.csv\")\n",
    "print(checker)\n",
    "\n"
   ]
  },
  {
   "cell_type": "code",
   "execution_count": 111,
   "id": "8245e019",
   "metadata": {},
   "outputs": [
    {
     "name": "stdout",
     "output_type": "stream",
     "text": [
      "<class 'pandas.core.frame.DataFrame'>\n",
      "RangeIndex: 120 entries, 0 to 119\n",
      "Data columns (total 1 columns):\n",
      " #   Column  Non-Null Count  Dtype \n",
      "---  ------  --------------  ----- \n",
      " 0   id      120 non-null    object\n",
      "dtypes: object(1)\n",
      "memory usage: 1.1+ KB\n",
      "None\n"
     ]
    }
   ],
   "source": [
    "print(checker.info())"
   ]
  },
  {
   "cell_type": "code",
   "execution_count": 112,
   "id": "4883f79e",
   "metadata": {},
   "outputs": [],
   "source": [
    "uniqueFilter = checker[\"id\"].unique()"
   ]
  },
  {
   "cell_type": "code",
   "execution_count": 113,
   "id": "f67aae73",
   "metadata": {},
   "outputs": [],
   "source": [
    "uniqueFilter = pd.DataFrame(uniqueFilter, columns = ['id'])"
   ]
  },
  {
   "cell_type": "code",
   "execution_count": 114,
   "id": "e44255e9",
   "metadata": {},
   "outputs": [
    {
     "name": "stdout",
     "output_type": "stream",
     "text": [
      "<class 'pandas.core.frame.DataFrame'>\n",
      "RangeIndex: 120 entries, 0 to 119\n",
      "Data columns (total 1 columns):\n",
      " #   Column  Non-Null Count  Dtype \n",
      "---  ------  --------------  ----- \n",
      " 0   id      120 non-null    object\n",
      "dtypes: object(1)\n",
      "memory usage: 1.1+ KB\n",
      "None\n"
     ]
    }
   ],
   "source": [
    "print(uniqueFilter.info())"
   ]
  },
  {
   "cell_type": "code",
   "execution_count": 76,
   "id": "feda0f6f",
   "metadata": {},
   "outputs": [],
   "source": [
    "import pandas as pd\n",
    "import numpy as np\n",
    "\n",
    "htmlTable = pd.read_html('https://www.moh.gov.my/index.php/database_stores/store_view/3?items=25&page=2')\n",
    "\n",
    "hospitalTable = pd.DataFrame(htmlTable[2])\n",
    "\n",
    "hospitalTable = hospitalTable.iloc[:,:-1]\n",
    "\n",
    "hospitalTable = hospitalTable.iloc[:,1 :]\n",
    "\n",
    "hospitalTable\n",
    "\n",
    "hospitalTable.to_csv(\"hospitalTable2.csv\", index = \"false\")"
   ]
  },
  {
   "cell_type": "code",
   "execution_count": null,
   "id": "1d616cc6",
   "metadata": {},
   "outputs": [],
   "source": []
  }
 ],
 "metadata": {
  "kernelspec": {
   "display_name": "Python 3",
   "language": "python",
   "name": "python3"
  },
  "language_info": {
   "codemirror_mode": {
    "name": "ipython",
    "version": 3
   },
   "file_extension": ".py",
   "mimetype": "text/x-python",
   "name": "python",
   "nbconvert_exporter": "python",
   "pygments_lexer": "ipython3",
   "version": "3.8.8"
  }
 },
 "nbformat": 4,
 "nbformat_minor": 5
}
